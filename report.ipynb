{
 "cells": [
  {
   "cell_type": "markdown",
   "id": "192f961e-6b24-4125-ae2e-fefa5e12d6f3",
   "metadata": {
    "pycharm": {
     "name": "#%% md\n"
    }
   },
   "source": [
    "# US Wildfire Analysis"
   ]
  },
  {
   "cell_type": "markdown",
   "id": "1cf41cd5-803c-45d1-9361-4697b35dfa68",
   "metadata": {
    "pycharm": {
     "name": "#%% md\n"
    }
   },
   "source": [
    "## Introduction"
   ]
  },
  {
   "cell_type": "markdown",
   "id": "7385b40c-8d2d-43a5-8d92-7016053eba68",
   "metadata": {
    "pycharm": {
     "name": "#%% md\n"
    }
   },
   "source": [
    "**Wildfires** are a common problem for United States and the wildfires which runs out of control results in big consequences."
   ]
  },
  {
   "cell_type": "markdown",
   "id": "c7d5b7ce-e206-4450-b7a8-29bf4502a831",
   "metadata": {
    "pycharm": {
     "name": "#%% md\n"
    }
   },
   "source": [
    "## Problems:\n",
    "<ul>\n",
    "    <li>Q1: Have wildfires become more or less frequent over time?</li>\n",
    "    <li>Q2: What counties are the most and least fire-prone?</li>\n",
    "    <li>Q3: Given the size, location and date, can you predict the cause of a wildfire?\n",
    "</li>\n",
    "</ul>"
   ]
  },
  {
   "cell_type": "markdown",
   "id": "a97a6829-8a27-4820-ad52-dd36eac8ad23",
   "metadata": {
    "pycharm": {
     "name": "#%% md\n"
    }
   },
   "source": [
    "### Import Libraries and Connect Database\n"
   ]
  },
  {
   "cell_type": "code",
   "execution_count": null,
   "id": "327d626f-c8c7-4b29-91e4-9e10a5004b95",
   "metadata": {
    "pycharm": {
     "name": "#%%\n"
    }
   },
   "outputs": [],
   "source": [
    "import pandas as pd\n",
    "import numpy as np\n",
    "import matplotlib.pyplot as plt\n",
    "import sqlite3\n",
    "import seaborn as sns\n",
    "sns.set()"
   ]
  },
  {
   "cell_type": "code",
   "execution_count": null,
   "id": "ffa9ad0e-717d-4d67-a4b2-94c713be65c4",
   "metadata": {
    "pycharm": {
     "name": "#%%\n"
    }
   },
   "outputs": [],
   "source": [
    "conn = sqlite3.connect('FPA_FOD_20170508.sqlite')"
   ]
  },
  {
   "cell_type": "markdown",
   "id": "917790ac-c900-4354-bde8-9ccdf2d46858",
   "metadata": {
    "pycharm": {
     "name": "#%% md\n"
    }
   },
   "source": [
    "### Q1: Have wildfires become more or less frequent over time?"
   ]
  },
  {
   "cell_type": "code",
   "execution_count": null,
   "id": "d5f04045-a65e-4986-aeed-2feeab754266",
   "metadata": {
    "pycharm": {
     "name": "#%%\n"
    }
   },
   "outputs": [],
   "source": [
    "wildfires = pd.read_sql_query('SELECT FIRE_YEAR FROM Fires;', con=conn)"
   ]
  },
  {
   "cell_type": "markdown",
   "id": "dd928322-2eeb-4ac5-98ce-fe33ac3b1165",
   "metadata": {
    "pycharm": {
     "name": "#%% md\n"
    }
   },
   "source": [
    "Creating a histogram of fire incidents by their years"
   ]
  },
  {
   "cell_type": "code",
   "execution_count": null,
   "id": "347b4f78-20b5-400e-ba81-e4a3bb32957f",
   "metadata": {
    "pycharm": {
     "name": "#%%\n"
    }
   },
   "outputs": [],
   "source": [
    "fig, ax = plt.subplots(figsize=(12,6))\n",
    "ax.hist(wildfires['FIRE_YEAR'], rwidth=0.9, bins=24);\n",
    "ax.set_xlabel('Year')\n",
    "ax.set_ylabel('Amount of Fire Incidents')\n",
    "plt.title('Incidents by Years')"
   ]
  },
  {
   "cell_type": "code",
   "execution_count": null,
   "id": "2dd975d5-c20b-4b52-9ce9-07911aff7ac9",
   "metadata": {
    "pycharm": {
     "name": "#%%\n"
    },
    "tags": []
   },
   "outputs": [],
   "source": [
    "wildfires['FIRE_YEAR'].value_counts()"
   ]
  },
  {
   "cell_type": "code",
   "execution_count": null,
   "id": "3cbe6834-0b2a-4dd3-bbfb-118e3fc82668",
   "metadata": {
    "pycharm": {
     "name": "#%%\n"
    },
    "tags": []
   },
   "outputs": [],
   "source": [
    "years = wildfires['FIRE_YEAR'].unique()\n",
    "years.sort()\n",
    "\n",
    "freqs = []\n",
    "for year in years:\n",
    "    freq = float(wildfires['FIRE_YEAR'][wildfires['FIRE_YEAR'] == year].count() / 365)\n",
    "    freqs.append(freq)\n",
    "    print(f'Frequency: {year} -> ', freq)"
   ]
  },
  {
   "cell_type": "code",
   "execution_count": null,
   "id": "d5df15cb-6acf-4775-9c61-2e2026849902",
   "metadata": {
    "pycharm": {
     "name": "#%%\n"
    }
   },
   "outputs": [],
   "source": [
    "freqs_dict = {'year': years, 'frequency': freqs}\n",
    "df_freq = pd.DataFrame(data=freqs_dict)"
   ]
  },
  {
   "cell_type": "code",
   "execution_count": null,
   "id": "42557c8f-5dad-4d8f-8203-8661295de318",
   "metadata": {
    "pycharm": {
     "name": "#%%\n"
    }
   },
   "outputs": [],
   "source": [
    "fig, ax = plt.subplots(figsize=(12,8))\n",
    "\n",
    "sns.kdeplot(x=df_freq['year'], y=df_freq['frequency'], fill=True, cbar=True)\n",
    "plt.title('Density of Frequencies by Year')"
   ]
  },
  {
   "cell_type": "code",
   "execution_count": null,
   "id": "0f7bf189-7cbe-459f-a838-7955d9fa8cde",
   "metadata": {
    "pycharm": {
     "name": "#%%\n"
    }
   },
   "outputs": [],
   "source": [
    "fig, ax = plt.subplots(figsize=(12,8))\n",
    "sns.regplot(x=df_freq['year'], y=df_freq['frequency'])\n",
    "plt.title('Wildfire Frequency Trend')"
   ]
  },
  {
   "cell_type": "markdown",
   "id": "2ba03188-07a9-4abb-bb59-60372aabe82c",
   "metadata": {
    "pycharm": {
     "name": "#%% md\n"
    }
   },
   "source": [
    "From those 3 graphs, we can see there is a big increase in the number of fire incidents in the year of 2006. It is visible that the minimum number of incidents increased over time. So we can say that the number of wildfires are becoming more frequent over time."
   ]
  },
  {
   "cell_type": "markdown",
   "id": "6561d923-1cde-47cc-aea6-bdbcd532f9fe",
   "metadata": {
    "pycharm": {
     "name": "#%% md\n"
    }
   },
   "source": [
    "### Q2: What counties are the most and least fire-prone?"
   ]
  },
  {
   "cell_type": "markdown",
   "id": "ac438b0e-7491-48c6-8a4d-0d645bcaf601",
   "metadata": {
    "pycharm": {
     "name": "#%% md\n"
    }
   },
   "source": [
    "#### Q2.1: Fire Size"
   ]
  },
  {
   "cell_type": "code",
   "execution_count": null,
   "id": "d73a7643-e20a-446c-a6f2-8b258ef4bef5",
   "metadata": {
    "pycharm": {
     "name": "#%%\n"
    }
   },
   "outputs": [],
   "source": [
    "wildfires = pd.read_sql_query(\"SELECT FIPS_CODE, FIPS_NAME, STATE, FIRE_SIZE FROM Fires;\", conn).dropna().sort_values(by='FIRE_SIZE', ascending=False)\n",
    "wildfires.set_index('FIPS_CODE', inplace=True)\n",
    "wildfires['AREA'] = wildfires['FIPS_NAME'] + ', ' + wildfires['STATE']\n",
    "wildfires.drop(['FIPS_NAME', 'STATE'], axis=1, inplace=True)\n",
    "wildfires"
   ]
  },
  {
   "cell_type": "code",
   "execution_count": null,
   "id": "623efdb2-ebec-4c6b-8419-2779ec6d38f9",
   "metadata": {
    "pycharm": {
     "name": "#%%\n"
    }
   },
   "outputs": [],
   "source": [
    "area = wildfires.groupby('AREA').sum().sort_values(by='FIRE_SIZE', ascending=False)\n",
    "area[:15].plot(kind='bar', figsize=(12, 6))"
   ]
  },
  {
   "cell_type": "markdown",
   "id": "710399cf-61b1-4e6a-9211-b1fe19e5067e",
   "metadata": {
    "pycharm": {
     "name": "#%% md\n"
    }
   },
   "source": [
    "According to the data, the total of wildfire size in Elko, Nevada is the largest among other counties. Also the total of wildfire size in Dewey, South Dakota is the smallest. This data puts Elko, Nevada as one of the most fire-prone county and puts Dewey, South Dakota as one of the least fire-prone county"
   ]
  },
  {
   "cell_type": "markdown",
   "id": "4e30e88c-446a-4cc4-9653-e7e0099bb3ab",
   "metadata": {
    "pycharm": {
     "name": "#%% md\n"
    }
   },
   "source": [
    "#### Q2.2: Fire Frequency"
   ]
  },
  {
   "cell_type": "code",
   "execution_count": null,
   "id": "96ca0172-2879-4e64-8100-ee97d43dd3f0",
   "metadata": {
    "pycharm": {
     "name": "#%%\n"
    }
   },
   "outputs": [],
   "source": [
    "incidents = pd.read_sql_query(\"SELECT FIPS_CODE, FIPS_NAME, STATE FROM Fires;\", conn).dropna()\n",
    "incidents.set_index('FIPS_CODE', inplace=True)\n",
    "incidents['AREA'] = incidents['FIPS_NAME'] + ', ' + incidents['STATE']\n",
    "incidents.drop(['FIPS_NAME', 'STATE'], axis=1, inplace=True)\n",
    "incidents"
   ]
  },
  {
   "cell_type": "code",
   "execution_count": null,
   "id": "3f0e07f9-384f-4b13-af6e-54259a0a2fca",
   "metadata": {
    "pycharm": {
     "name": "#%%\n"
    }
   },
   "outputs": [],
   "source": [
    "incidents.value_counts().rename_axis('AREA').to_frame('counts')[:15].plot(kind='bar', figsize=(12, 6))"
   ]
  },
  {
   "cell_type": "markdown",
   "id": "d84e48a7-608d-40c9-9e94-88dc67afd16d",
   "metadata": {
    "pycharm": {
     "name": "#%% md\n"
    }
   },
   "source": [
    "In this graph, we can see the the most frequent wildfires with respect to counties are in Coconino, Arizona. Which makes Coconino, Arizona one of the most fire-prone county."
   ]
  },
  {
   "cell_type": "code",
   "execution_count": null,
   "id": "b7e5822e-6ef2-483e-8985-029d3bf1c78a",
   "metadata": {
    "pycharm": {
     "name": "#%%\n"
    }
   },
   "outputs": [],
   "source": [
    "incident_counts = incidents.value_counts().rename_axis('AREA').to_frame('counts')\n",
    "incident_min = incident_counts[incident_counts['counts'] < 2]\n",
    "incident_min.index.to_list()"
   ]
  },
  {
   "cell_type": "markdown",
   "id": "a851933e-309b-45b0-a874-838b42b7cfb7",
   "metadata": {
    "pycharm": {
     "name": "#%% md\n"
    }
   },
   "source": [
    "Given counties are the least fire-prone with least frequent wildfires."
   ]
  },
  {
   "cell_type": "markdown",
   "id": "19d6beb9-8795-43f0-adf4-6a0ee6826c0c",
   "metadata": {
    "pycharm": {
     "name": "#%% md\n"
    }
   },
   "source": [
    "### Q3: Given the size, location and date, can you predict the cause of a wildfire?"
   ]
  },
  {
   "cell_type": "code",
   "execution_count": null,
   "id": "6d916aa5-4f46-4e63-b03a-66a74016d24e",
   "metadata": {
    "pycharm": {
     "name": "#%%\n"
    }
   },
   "outputs": [],
   "source": [
    "wildfires = pd.read_sql_query(\"SELECT FIRE_SIZE, STATE, LATITUDE, LONGITUDE, CONT_DOY, CONT_TIME, STAT_CAUSE_DESCR FROM Fires;\", conn).dropna()\n",
    "wildfires"
   ]
  },
  {
   "cell_type": "markdown",
   "id": "ac2f58bf-3a96-45b4-9cd5-490bc374e52c",
   "metadata": {
    "pycharm": {
     "name": "#%% md\n"
    }
   },
   "source": [
    "#### Data Preperation"
   ]
  },
  {
   "cell_type": "markdown",
   "id": "bcfa1b53-6128-4616-868a-f0f3fd120065",
   "metadata": {
    "pycharm": {
     "name": "#%% md\n"
    }
   },
   "source": [
    "##### Check correlations"
   ]
  },
  {
   "cell_type": "code",
   "execution_count": null,
   "id": "c0065c83-6297-424e-a43d-898a981df66d",
   "metadata": {
    "pycharm": {
     "name": "#%%\n"
    }
   },
   "outputs": [],
   "source": [
    "corr = wildfires.corr()"
   ]
  },
  {
   "cell_type": "code",
   "execution_count": null,
   "id": "aaf72a2f-0cad-41bd-9427-7411ea723cc1",
   "metadata": {
    "pycharm": {
     "name": "#%%\n"
    }
   },
   "outputs": [],
   "source": [
    "sns.heatmap(corr, annot=True)"
   ]
  },
  {
   "cell_type": "markdown",
   "id": "4594e1ea-3d0f-45b8-9a0f-a85c1a385961",
   "metadata": {
    "pycharm": {
     "name": "#%% md\n"
    }
   },
   "source": [
    "##### Encoding & Train Test Split"
   ]
  },
  {
   "cell_type": "code",
   "execution_count": null,
   "id": "17f9b8c4-7818-4733-9ed9-7c71f3b08830",
   "metadata": {
    "pycharm": {
     "name": "#%%\n"
    }
   },
   "outputs": [],
   "source": [
    "from sklearn.preprocessing import LabelEncoder\n",
    "le = LabelEncoder()\n",
    "\n",
    "wildfires['STATE'] = le.fit_transform(wildfires['STATE'])\n",
    "wildfires['STAT_CAUSE_DESCR'] = le.fit_transform(wildfires['STAT_CAUSE_DESCR'])"
   ]
  },
  {
   "cell_type": "markdown",
   "id": "87f75030-8e21-4cac-b368-c2ae709f0e68",
   "metadata": {
    "pycharm": {
     "name": "#%% md\n"
    }
   },
   "source": [
    "Labeled classes:\n",
    "\n",
    "    0 -> Arson\n",
    "    1 -> Campfire\n",
    "    2 -> Children\n",
    "    3 -> Debris Burning\n",
    "    4 -> Equipment Use\n",
    "    5 -> Fireworks\n",
    "    6 -> Lightning\n",
    "    7 -> Miscellaneus\n",
    "    8 -> Missing/Undefined\n",
    "    9 -> Powerline\n",
    "    10 -> Railroad\n",
    "    11 -> Smoking\n",
    "    12 -> Structure"
   ]
  },
  {
   "cell_type": "code",
   "execution_count": null,
   "id": "afa6a524-7aa8-4816-a5c0-c95b8c0ecad6",
   "metadata": {
    "pycharm": {
     "name": "#%%\n"
    }
   },
   "outputs": [],
   "source": [
    "X = wildfires.iloc[:, :-1].to_numpy()\n",
    "y = wildfires['STAT_CAUSE_DESCR'].to_numpy()"
   ]
  },
  {
   "cell_type": "code",
   "execution_count": null,
   "id": "551c1685-2ddc-472c-807f-01f1160ad750",
   "metadata": {
    "pycharm": {
     "name": "#%%\n"
    }
   },
   "outputs": [],
   "source": [
    "from sklearn.model_selection import train_test_split\n",
    "\n",
    "X_train, X_test, y_train, y_test = train_test_split(X, y, random_state=42)"
   ]
  },
  {
   "cell_type": "code",
   "execution_count": null,
   "id": "e406dafe-548b-491d-94cb-7bef2905feda",
   "metadata": {
    "pycharm": {
     "name": "#%%\n"
    }
   },
   "outputs": [],
   "source": [
    "print(X_train.shape, y_train.shape, X_test.shape, y_test.shape)"
   ]
  },
  {
   "cell_type": "markdown",
   "id": "9b99ec3e-309b-4f0b-bfa2-0e86fba3037e",
   "metadata": {
    "pycharm": {
     "name": "#%% md\n"
    }
   },
   "source": [
    "#### Normalize the data"
   ]
  },
  {
   "cell_type": "code",
   "execution_count": null,
   "id": "2f50df10-809d-42ac-bfd0-da1c5e16dd44",
   "metadata": {
    "pycharm": {
     "name": "#%%\n"
    }
   },
   "outputs": [],
   "source": [
    "from sklearn.preprocessing import StandardScaler\n",
    "\n",
    "scaler = StandardScaler()\n",
    "X_train = scaler.fit_transform(X_train)\n",
    "X_test = scaler.transform(X_test)"
   ]
  },
  {
   "cell_type": "markdown",
   "id": "bea69808-f5dd-431e-b332-835519b4c8b4",
   "metadata": {
    "pycharm": {
     "name": "#%% md\n"
    }
   },
   "source": [
    "#### Search on Models"
   ]
  },
  {
   "cell_type": "code",
   "execution_count": null,
   "id": "c7095578-2961-46fc-9243-2eec59d06820",
   "metadata": {
    "pycharm": {
     "name": "#%%\n"
    }
   },
   "outputs": [],
   "source": [
    "from sklearn.tree import DecisionTreeClassifier\n",
    "from sklearn.tree import ExtraTreeClassifier\n",
    "from sklearn.ensemble import BaggingClassifier\n",
    "from sklearn.ensemble import RandomForestClassifier\n",
    "from sklearn.neighbors import KNeighborsClassifier\n",
    "from sklearn.ensemble import GradientBoostingClassifier\n",
    "import time"
   ]
  },
  {
   "cell_type": "code",
   "execution_count": null,
   "id": "0beb3429-a1f7-4612-ab16-719cf5c59fe4",
   "metadata": {
    "pycharm": {
     "name": "#%%\n"
    }
   },
   "outputs": [],
   "source": [
    "# dtc = DecisionTreeClassifier()\n",
    "# extc = ExtraTreeClassifier()\n",
    "# bc = BaggingClassifier()\n",
    "# rfc = RandomForestClassifier()\n",
    "# knn = KNeighborsClassifier()\n",
    "# gb = GradientBoostingClassifier()\n",
    "\n",
    "# clf_list = [dtc, extc, bc, rfc, knn, gb]\n",
    "# models = []\n",
    "\n",
    "# for clf in clf_list:\n",
    "#     start = time.time()\n",
    "#     clf.fit(X_train, y_train)\n",
    "#     end = time.time()\n",
    "#     print(end - start)\n",
    "#     print(f\"Model: {clf}\")\n",
    "#     print(f\"train score: {clf.score(X_train, y_train)}, test score: {clf.score(X_test, y_test)}\")\n",
    "#     models.append(clf)\n",
    "#     print(\"---------------------\")"
   ]
  },
  {
   "cell_type": "markdown",
   "id": "cf11ca3a-3456-4838-a5c2-aebf2655ef8b",
   "metadata": {
    "pycharm": {
     "name": "#%% md\n"
    }
   },
   "source": [
    "From above, Gradient Boosting was the only model that did not overfit with an accuracy of 52% training and 52% testing."
   ]
  },
  {
   "cell_type": "markdown",
   "id": "8493cf0b-47de-41ab-87b1-65d1c605da6f",
   "metadata": {
    "pycharm": {
     "name": "#%% md\n"
    }
   },
   "source": [
    "#### Search on Gradient Boosting for the best parameters"
   ]
  },
  {
   "cell_type": "code",
   "execution_count": null,
   "id": "f7407d2d-22b1-4e3c-afa6-c633789b58b2",
   "metadata": {
    "pycharm": {
     "name": "#%%\n"
    }
   },
   "outputs": [],
   "source": [
    "gb = GradientBoostingClassifier(n_estimators=600)\n",
    "\n",
    "start = time.time()\n",
    "gb.fit(X_train, y_train)\n",
    "end = time.time()\n",
    "\n",
    "print(end - start)\n",
    "print(f\"Model: {gb}\")\n",
    "print(f\"train score: {gb.score(X_train, y_train)}, test score: {gb.score(X_test, y_test)}\")"
   ]
  },
  {
   "cell_type": "code",
   "execution_count": null,
   "id": "a968ac3d-78fc-4386-9007-d3a8e88a3d78",
   "metadata": {
    "pycharm": {
     "name": "#%%\n"
    }
   },
   "outputs": [],
   "source": [
    "from sklearn.metrics import classification_report\n",
    "y_pred = gb.predict(X_test)\n",
    "print(classification_report(y_test, y_pred))"
   ]
  },
  {
   "cell_type": "code",
   "execution_count": null,
   "id": "00cf0ed7-8f2b-430f-a916-3a43ba0ec55a",
   "metadata": {
    "pycharm": {
     "name": "#%%\n"
    }
   },
   "outputs": [],
   "source": [
    "from sklearn.metrics import confusion_matrix\n",
    "fig, ax = plt.subplots(figsize=(16,12))\n",
    "\n",
    "cfmatrix = confusion_matrix(y_test, y_pred)\n",
    "sns.heatmap(cfmatrix, annot=True, fmt='.0f')\n",
    "\n",
    "\n",
    "labels = ['Arson', 'Campfire', 'Children', 'Debris Burning', \n",
    "          'Equipment Use', 'Fireworks', 'Lightning', 'Miscellaneus', \n",
    "          'Missing/Undefined', 'Powerline', 'Railroad', 'Smoking', \n",
    "          'Structure']\n",
    "\n",
    "ax.set_xlabel('Predicted')\n",
    "ax.set_ylabel('Actual')\n",
    "\n",
    "ax.set_yticklabels(labels, rotation=0)\n",
    "ax.set_xticklabels(labels, rotation=90);\n",
    "plt.title('Confusion Matrix of Fire Cause Classification')"
   ]
  },
  {
   "cell_type": "code",
   "execution_count": null,
   "id": "1111ee6c-ac5b-4a56-a2a1-e96fd7929241",
   "metadata": {
    "pycharm": {
     "name": "#%%\n"
    }
   },
   "outputs": [],
   "source": [
    "FP = cfmatrix.sum(axis=0) - np.diag(cfmatrix)  \n",
    "FN = cfmatrix.sum(axis=1) - np.diag(cfmatrix)\n",
    "TP = np.diag(cfmatrix)\n",
    "TN = cfmatrix.sum() - (FP + FN + TP)"
   ]
  },
  {
   "cell_type": "code",
   "execution_count": null,
   "id": "6debb636-e57b-42e6-bca9-a8ca634a3552",
   "metadata": {
    "pycharm": {
     "name": "#%%\n"
    }
   },
   "outputs": [],
   "source": [
    "for i in range(len(TP)):\n",
    "    print(f'Class: {i} \\t TP: {TP[i]} \\t TN: {TN[i]} \\t FP: {FP[i]} \\t FN: {FN[i]}')"
   ]
  },
  {
   "cell_type": "code",
   "execution_count": null,
   "id": "bb6f1a92-fc19-46f9-9abd-3ed98c1dfd54",
   "metadata": {
    "pycharm": {
     "name": "#%%\n"
    }
   },
   "outputs": [],
   "source": [
    "for i in range(len(TP)):\n",
    "    print(f'Class: {i} \\t Sensitivity: {TP[i]/(TP[i]+FN[i])} \\t Specificity: {TN[i]/(TN[i]+FP[i])}')"
   ]
  },
  {
   "cell_type": "code",
   "execution_count": null,
   "id": "3324754e-9bfc-4111-8e63-3db07ef4b397",
   "metadata": {
    "pycharm": {
     "name": "#%%\n"
    }
   },
   "outputs": [],
   "source": [
    "!pip install yellowbrick"
   ]
  },
  {
   "cell_type": "code",
   "execution_count": null,
   "id": "e6bc209b-8497-4ab9-9135-17e0720d86ba",
   "metadata": {
    "pycharm": {
     "name": "#%%\n"
    }
   },
   "outputs": [],
   "source": [
    "from yellowbrick.classifier import ROCAUC\n",
    "fig, ax = plt.subplots(figsize=(12, 12))\n",
    "\n",
    "visualizer = ROCAUC(gb, classes=labels)\n",
    "visualizer.fit(X_train, y_train)\n",
    "visualizer.score(X_test, y_test)\n",
    "visualizer.show()"
   ]
  },
  {
   "cell_type": "markdown",
   "id": "2179636a-b444-4819-a7e6-a18d612d3663",
   "metadata": {
    "pycharm": {
     "name": "#%% md\n"
    }
   },
   "source": [
    "<b>Given the size, location and date, it is hard to predict the cause of a wildfire.</b>"
   ]
  },
  {
   "cell_type": "code",
   "execution_count": null,
   "id": "73fc63b6-5143-4261-8fde-eb6ba3d48672",
   "metadata": {
    "pycharm": {
     "name": "#%%\n"
    }
   },
   "outputs": [],
   "source": [
    "!jupyter nbconvert --to html report.ipynb"
   ]
  },
  {
   "cell_type": "code",
   "execution_count": null,
   "id": "bd858832-bfc0-4ee3-882e-49691145afb0",
   "metadata": {
    "pycharm": {
     "name": "#%%\n"
    }
   },
   "outputs": [],
   "source": []
  }
 ],
 "metadata": {
  "kernelspec": {
   "display_name": "Python 3 (ipykernel)",
   "language": "python",
   "name": "python3"
  },
  "language_info": {
   "codemirror_mode": {
    "name": "ipython",
    "version": 3
   },
   "file_extension": ".py",
   "mimetype": "text/x-python",
   "name": "python",
   "nbconvert_exporter": "python",
   "pygments_lexer": "ipython3",
   "version": "3.10.6"
  }
 },
 "nbformat": 4,
 "nbformat_minor": 5
}
